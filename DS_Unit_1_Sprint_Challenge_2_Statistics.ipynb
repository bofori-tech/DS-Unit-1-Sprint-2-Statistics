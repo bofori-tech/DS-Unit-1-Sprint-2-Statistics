{
  "nbformat": 4,
  "nbformat_minor": 0,
  "metadata": {
    "colab": {
      "name": "DS_Unit_1_Sprint_Challenge_2_Statistics.ipynb",
      "provenance": [],
      "collapsed_sections": [],
      "include_colab_link": true
    },
    "kernelspec": {
      "name": "python3",
      "display_name": "Python 3"
    }
  },
  "cells": [
    {
      "cell_type": "markdown",
      "metadata": {
        "id": "view-in-github",
        "colab_type": "text"
      },
      "source": [
        "<a href=\"https://colab.research.google.com/github/bofori-tech/DS-Unit-1-Sprint-2-Statistics/blob/master/DS_Unit_1_Sprint_Challenge_2_Statistics.ipynb\" target=\"_parent\"><img src=\"https://colab.research.google.com/assets/colab-badge.svg\" alt=\"Open In Colab\"/></a>"
      ]
    },
    {
      "cell_type": "markdown",
      "metadata": {
        "id": "NooAiTdnafkz",
        "colab_type": "text"
      },
      "source": [
        "# Data Science Unit 1 Sprint Challenge 2\n",
        "\n",
        "## Exploring Data, Testing Hypotheses\n",
        "\n",
        "In this sprint challenge you will look at a dataset of Echocardiograms\n",
        "\n",
        "<https://archive.ics.uci.edu/ml/datasets/Echocardiogram>\n",
        "\n",
        "Attribute Information:\n",
        "\n",
        "1. survival -- the number of months patient survived (has survived, if patient is still alive). Because all the patients had their heart attacks at different times, it is possible that some patients have survived less than one year but they are still alive. Check the second variable to confirm this. Such patients cannot be used for the prediction task mentioned above.\n",
        "2. still-alive -- a binary variable. 0=dead at end of survival period, 1 means still alive\n",
        "3. age-at-heart-attack -- age in years when heart attack occurred\n",
        "4. pericardial-effusion -- binary. Pericardial effusion is fluid around the heart. 0=no fluid, 1=fluid\n",
        "5. fractional-shortening -- a measure of contracility around the heart lower numbers are increasingly abnormal\n",
        "6. epss -- E-point septal separation, another measure of contractility. Larger numbers are increasingly abnormal.\n",
        "7. lvdd -- left ventricular end-diastolic dimension. This is a measure of the size of the heart at end-diastole. Large hearts tend to be sick hearts.\n",
        "8. wall-motion-score -- a measure of how the segments of the left ventricle are moving\n",
        "9. wall-motion-index -- equals wall-motion-score divided by number of segments seen. Usually 12-13 segments are seen in an echocardiogram. Use this variable INSTEAD of the wall motion score.\n",
        "10. mult -- a derivate var which can be ignored\n",
        "11. name -- the name of the patient (I have replaced them with \"name\")\n",
        "12. group -- meaningless, ignore it\n",
        "13. alive-at-1 -- Boolean-valued. Derived from the first two attributes. 0 means patient was either dead after 1 year or had been followed for less than 1 year. 1 means patient was alive at 1 year.\n",
        "\n",
        "Sprint challenges are evaluated based on satisfactory completion of each part. It is suggested you work through it in order, getting each aspect reasonably working, before trying to deeply explore, iterate, or refine any given step. Once you get to the end, if you want to go back and improve things, go for it!"
      ]
    },
    {
      "cell_type": "markdown",
      "metadata": {
        "id": "5wch6ksCbJtZ",
        "colab_type": "text"
      },
      "source": [
        "## Part 1 - Load and validate the data\n",
        "\n",
        "- Load the data as a `pandas` data frame.\n",
        "- Validate that it has the appropriate number of observations (you can check the raw file, and also read the dataset description from UCI).\n",
        "- UCI says there should be missing data - check, and if necessary change the data so pandas recognizes it as na\n",
        "- Make sure that the loaded features are of the types described above (continuous values should be treated as float), and correct as necessary\n",
        "\n",
        "This is review, but skills that you'll use at the start of any data exploration. Further, you may have to do some investigation to figure out which file to load from - that is part of the puzzle."
      ]
    },
    {
      "cell_type": "code",
      "metadata": {
        "id": "Q79xDLckzibS",
        "colab_type": "code",
        "colab": {
          "base_uri": "https://localhost:8080/",
          "height": 204
        },
        "outputId": "c67037bb-ede5-4806-a5ad-2a5d0a558145"
      },
      "source": [
        "\n",
        "!wget https://archive.ics.uci.edu/ml/machine-learning-databases/echocardiogram/echocardiogram.data"
      ],
      "execution_count": 2,
      "outputs": [
        {
          "output_type": "stream",
          "text": [
            "--2020-08-01 16:16:45--  https://archive.ics.uci.edu/ml/machine-learning-databases/echocardiogram/echocardiogram.data\n",
            "Resolving archive.ics.uci.edu (archive.ics.uci.edu)... 128.195.10.252\n",
            "Connecting to archive.ics.uci.edu (archive.ics.uci.edu)|128.195.10.252|:443... connected.\n",
            "HTTP request sent, awaiting response... 200 OK\n",
            "Length: 6107 (6.0K) [application/x-httpd-php]\n",
            "Saving to: ‘echocardiogram.data’\n",
            "\n",
            "\rechocardiogram.data   0%[                    ]       0  --.-KB/s               \rechocardiogram.data 100%[===================>]   5.96K  --.-KB/s    in 0s      \n",
            "\n",
            "2020-08-01 16:16:45 (115 MB/s) - ‘echocardiogram.data’ saved [6107/6107]\n",
            "\n"
          ],
          "name": "stdout"
        }
      ]
    },
    {
      "cell_type": "code",
      "metadata": {
        "id": "OP_8eJv_z-XX",
        "colab_type": "code",
        "colab": {
          "base_uri": "https://localhost:8080/",
          "height": 238
        },
        "outputId": "db776f92-ccad-4dd5-89d5-4e037665962e"
      },
      "source": [
        "#make a dataframe\n",
        "import pandas as pd\n",
        "column_headers = ['survival','still-alive','age-at-heart-attack','pericardial-effusion','fractional-shortening', \n",
        "                             'epss','lvdd','wall-motion-score','wall-motion-index','mult','name','group', \n",
        "                              'alive-at-1'] \n",
        "df = pd.read_csv('echocardiogram.data', header = None,\n",
        "                   names = column_headers, error_bad_lines=False,\n",
        "                   na_values = '?',\n",
        "                   )\n",
        "df.head()"
      ],
      "execution_count": 49,
      "outputs": [
        {
          "output_type": "execute_result",
          "data": {
            "text/html": [
              "<div>\n",
              "<style scoped>\n",
              "    .dataframe tbody tr th:only-of-type {\n",
              "        vertical-align: middle;\n",
              "    }\n",
              "\n",
              "    .dataframe tbody tr th {\n",
              "        vertical-align: top;\n",
              "    }\n",
              "\n",
              "    .dataframe thead th {\n",
              "        text-align: right;\n",
              "    }\n",
              "</style>\n",
              "<table border=\"1\" class=\"dataframe\">\n",
              "  <thead>\n",
              "    <tr style=\"text-align: right;\">\n",
              "      <th></th>\n",
              "      <th>survival</th>\n",
              "      <th>still-alive</th>\n",
              "      <th>age-at-heart-attack</th>\n",
              "      <th>pericardial-effusion</th>\n",
              "      <th>fractional-shortening</th>\n",
              "      <th>epss</th>\n",
              "      <th>lvdd</th>\n",
              "      <th>wall-motion-score</th>\n",
              "      <th>wall-motion-index</th>\n",
              "      <th>mult</th>\n",
              "      <th>name</th>\n",
              "      <th>group</th>\n",
              "      <th>alive-at-1</th>\n",
              "    </tr>\n",
              "  </thead>\n",
              "  <tbody>\n",
              "    <tr>\n",
              "      <th>0</th>\n",
              "      <td>11.0</td>\n",
              "      <td>0.0</td>\n",
              "      <td>71.0</td>\n",
              "      <td>0</td>\n",
              "      <td>0.260</td>\n",
              "      <td>9.000</td>\n",
              "      <td>4.600</td>\n",
              "      <td>14.0</td>\n",
              "      <td>1.00</td>\n",
              "      <td>1.000</td>\n",
              "      <td>name</td>\n",
              "      <td>1</td>\n",
              "      <td>0.0</td>\n",
              "    </tr>\n",
              "    <tr>\n",
              "      <th>1</th>\n",
              "      <td>19.0</td>\n",
              "      <td>0.0</td>\n",
              "      <td>72.0</td>\n",
              "      <td>0</td>\n",
              "      <td>0.380</td>\n",
              "      <td>6.000</td>\n",
              "      <td>4.100</td>\n",
              "      <td>14.0</td>\n",
              "      <td>1.70</td>\n",
              "      <td>0.588</td>\n",
              "      <td>name</td>\n",
              "      <td>1</td>\n",
              "      <td>0.0</td>\n",
              "    </tr>\n",
              "    <tr>\n",
              "      <th>2</th>\n",
              "      <td>16.0</td>\n",
              "      <td>0.0</td>\n",
              "      <td>55.0</td>\n",
              "      <td>0</td>\n",
              "      <td>0.260</td>\n",
              "      <td>4.000</td>\n",
              "      <td>3.420</td>\n",
              "      <td>14.0</td>\n",
              "      <td>1.00</td>\n",
              "      <td>1.000</td>\n",
              "      <td>name</td>\n",
              "      <td>1</td>\n",
              "      <td>0.0</td>\n",
              "    </tr>\n",
              "    <tr>\n",
              "      <th>3</th>\n",
              "      <td>57.0</td>\n",
              "      <td>0.0</td>\n",
              "      <td>60.0</td>\n",
              "      <td>0</td>\n",
              "      <td>0.253</td>\n",
              "      <td>12.062</td>\n",
              "      <td>4.603</td>\n",
              "      <td>16.0</td>\n",
              "      <td>1.45</td>\n",
              "      <td>0.788</td>\n",
              "      <td>name</td>\n",
              "      <td>1</td>\n",
              "      <td>0.0</td>\n",
              "    </tr>\n",
              "    <tr>\n",
              "      <th>4</th>\n",
              "      <td>19.0</td>\n",
              "      <td>1.0</td>\n",
              "      <td>57.0</td>\n",
              "      <td>0</td>\n",
              "      <td>0.160</td>\n",
              "      <td>22.000</td>\n",
              "      <td>5.750</td>\n",
              "      <td>18.0</td>\n",
              "      <td>2.25</td>\n",
              "      <td>0.571</td>\n",
              "      <td>name</td>\n",
              "      <td>1</td>\n",
              "      <td>0.0</td>\n",
              "    </tr>\n",
              "  </tbody>\n",
              "</table>\n",
              "</div>"
            ],
            "text/plain": [
              "   survival  still-alive  age-at-heart-attack  ...  name  group  alive-at-1\n",
              "0      11.0          0.0                 71.0  ...  name      1         0.0\n",
              "1      19.0          0.0                 72.0  ...  name      1         0.0\n",
              "2      16.0          0.0                 55.0  ...  name      1         0.0\n",
              "3      57.0          0.0                 60.0  ...  name      1         0.0\n",
              "4      19.0          1.0                 57.0  ...  name      1         0.0\n",
              "\n",
              "[5 rows x 13 columns]"
            ]
          },
          "metadata": {
            "tags": []
          },
          "execution_count": 49
        }
      ]
    },
    {
      "cell_type": "markdown",
      "metadata": {
        "id": "G7rLytbrO38L",
        "colab_type": "text"
      },
      "source": [
        "## Part 2 - Exploring data, Testing hypotheses\n",
        "\n",
        "The only thing we really know about this data is that Alive-at-1 is the class label. Besides that, we have continuous features and categorical features.\n",
        "\n",
        "Explore the data: you can use whatever approach (tables, utility functions, visualizations) to get an impression of the distributions and relationships of the variables. In general, your goal is to understand how the features are different when grouped by the two class labels (`1` and `0`).\n",
        "\n",
        "For the continuous features, how are they different when split between the two class labels? Choose two features to run t-tests (again split by class label) - specifically, select one feature that is *extremely* different between the classes, and another feature that is notably less different (though perhaps still \"statistically significantly\" different). You may have to explore more than two features to do this.\n",
        "\n",
        "For the categorical features, explore by creating \"cross tabs\" (aka [contingency tables](https://en.wikipedia.org/wiki/Contingency_table)) between them and the class label, and apply the Chi-squared test to them. [pandas.crosstab](http://pandas.pydata.org/pandas-docs/stable/reference/api/pandas.crosstab.html) can create contingency tables, and [scipy.stats.chi2_contingency](https://docs.scipy.org/doc/scipy/reference/generated/scipy.stats.chi2_contingency.html) can calculate the Chi-squared statistic for them.\n",
        "\n",
        "There are also categorical features - as with the t-test, try to find one where the Chi-squared test returns an extreme result (rejecting the null that the data are independent), and one where it is less extreme.\n",
        "\n",
        "**NOTE** - \"less extreme\" just means smaller test statistic/larger p-value. Even the least extreme differences may be strongly statistically significant.\n",
        "\n",
        "Your *main* goal is the hypothesis tests, so don't spend too much time on the exploration/visualization piece. That is just a means to an end - use simple visualizations, such as boxplots or a scatter matrix (both built in to pandas), to get a feel for the overall distribution of the variables.\n",
        "\n",
        "This is challenging, so manage your time and aim for a baseline of at least running two t-tests and two Chi-squared tests before polishing. And don't forget to answer the questions in part 3, even if your results in this part aren't what you want them to be."
      ]
    },
    {
      "cell_type": "code",
      "metadata": {
        "id": "_nqcgc0yzm68",
        "colab_type": "code",
        "colab": {
          "base_uri": "https://localhost:8080/",
          "height": 71
        },
        "outputId": "71c33881-8cb3-430e-fb10-adc87f25c73b"
      },
      "source": [
        "import pandas as pd\n",
        "import scipy.stats as stats\n",
        "import matplotlib.pyplot as plt\n",
        "import seaborn as sns"
      ],
      "execution_count": 4,
      "outputs": [
        {
          "output_type": "stream",
          "text": [
            "/usr/local/lib/python3.6/dist-packages/statsmodels/tools/_testing.py:19: FutureWarning: pandas.util.testing is deprecated. Use the functions in the public API at pandas.testing instead.\n",
            "  import pandas.util.testing as tm\n"
          ],
          "name": "stderr"
        }
      ]
    },
    {
      "cell_type": "code",
      "metadata": {
        "id": "llmDyeNF5R9_",
        "colab_type": "code",
        "colab": {}
      },
      "source": [
        "from sklearn import metrics\n",
        "from sklearn.model_selection import train_test_split\n",
        "from sklearn.ensemble import RandomForestClassifier"
      ],
      "execution_count": 5,
      "outputs": []
    },
    {
      "cell_type": "code",
      "metadata": {
        "id": "K3iBB3mWUlbU",
        "colab_type": "code",
        "colab": {
          "base_uri": "https://localhost:8080/",
          "height": 238
        },
        "outputId": "5561a638-d4d0-4368-e789-becac24b4cf6"
      },
      "source": [
        "ran=df.sample(n=30, random_state=42)\n",
        "ran.head()"
      ],
      "execution_count": 52,
      "outputs": [
        {
          "output_type": "execute_result",
          "data": {
            "text/html": [
              "<div>\n",
              "<style scoped>\n",
              "    .dataframe tbody tr th:only-of-type {\n",
              "        vertical-align: middle;\n",
              "    }\n",
              "\n",
              "    .dataframe tbody tr th {\n",
              "        vertical-align: top;\n",
              "    }\n",
              "\n",
              "    .dataframe thead th {\n",
              "        text-align: right;\n",
              "    }\n",
              "</style>\n",
              "<table border=\"1\" class=\"dataframe\">\n",
              "  <thead>\n",
              "    <tr style=\"text-align: right;\">\n",
              "      <th></th>\n",
              "      <th>survival</th>\n",
              "      <th>still-alive</th>\n",
              "      <th>age-at-heart-attack</th>\n",
              "      <th>pericardial-effusion</th>\n",
              "      <th>fractional-shortening</th>\n",
              "      <th>epss</th>\n",
              "      <th>lvdd</th>\n",
              "      <th>wall-motion-score</th>\n",
              "      <th>wall-motion-index</th>\n",
              "      <th>mult</th>\n",
              "      <th>name</th>\n",
              "      <th>group</th>\n",
              "      <th>alive-at-1</th>\n",
              "    </tr>\n",
              "  </thead>\n",
              "  <tbody>\n",
              "    <tr>\n",
              "      <th>56</th>\n",
              "      <td>45.00</td>\n",
              "      <td>0.0</td>\n",
              "      <td>63.0</td>\n",
              "      <td>0</td>\n",
              "      <td>0.15</td>\n",
              "      <td>13.0</td>\n",
              "      <td>4.57</td>\n",
              "      <td>13.0</td>\n",
              "      <td>1.08</td>\n",
              "      <td>0.857</td>\n",
              "      <td>name</td>\n",
              "      <td>2</td>\n",
              "      <td>0.0</td>\n",
              "    </tr>\n",
              "    <tr>\n",
              "      <th>83</th>\n",
              "      <td>0.75</td>\n",
              "      <td>1.0</td>\n",
              "      <td>78.0</td>\n",
              "      <td>0</td>\n",
              "      <td>0.05</td>\n",
              "      <td>10.0</td>\n",
              "      <td>4.44</td>\n",
              "      <td>15.0</td>\n",
              "      <td>1.36</td>\n",
              "      <td>0.786</td>\n",
              "      <td>name</td>\n",
              "      <td>2</td>\n",
              "      <td>1.0</td>\n",
              "    </tr>\n",
              "    <tr>\n",
              "      <th>19</th>\n",
              "      <td>1.00</td>\n",
              "      <td>1.0</td>\n",
              "      <td>66.0</td>\n",
              "      <td>1</td>\n",
              "      <td>0.22</td>\n",
              "      <td>15.0</td>\n",
              "      <td>5.40</td>\n",
              "      <td>27.0</td>\n",
              "      <td>2.25</td>\n",
              "      <td>0.857</td>\n",
              "      <td>name</td>\n",
              "      <td>1</td>\n",
              "      <td>1.0</td>\n",
              "    </tr>\n",
              "    <tr>\n",
              "      <th>31</th>\n",
              "      <td>1.00</td>\n",
              "      <td>1.0</td>\n",
              "      <td>52.0</td>\n",
              "      <td>1</td>\n",
              "      <td>0.17</td>\n",
              "      <td>17.2</td>\n",
              "      <td>5.32</td>\n",
              "      <td>14.0</td>\n",
              "      <td>1.17</td>\n",
              "      <td>0.857</td>\n",
              "      <td>name</td>\n",
              "      <td>2</td>\n",
              "      <td>NaN</td>\n",
              "    </tr>\n",
              "    <tr>\n",
              "      <th>76</th>\n",
              "      <td>0.25</td>\n",
              "      <td>1.0</td>\n",
              "      <td>68.0</td>\n",
              "      <td>0</td>\n",
              "      <td>0.22</td>\n",
              "      <td>21.7</td>\n",
              "      <td>4.85</td>\n",
              "      <td>15.0</td>\n",
              "      <td>1.15</td>\n",
              "      <td>0.928</td>\n",
              "      <td>name</td>\n",
              "      <td>2</td>\n",
              "      <td>NaN</td>\n",
              "    </tr>\n",
              "  </tbody>\n",
              "</table>\n",
              "</div>"
            ],
            "text/plain": [
              "    survival  still-alive  age-at-heart-attack  ...  name  group  alive-at-1\n",
              "56     45.00          0.0                 63.0  ...  name      2         0.0\n",
              "83      0.75          1.0                 78.0  ...  name      2         1.0\n",
              "19      1.00          1.0                 66.0  ...  name      1         1.0\n",
              "31      1.00          1.0                 52.0  ...  name      2         NaN\n",
              "76      0.25          1.0                 68.0  ...  name      2         NaN\n",
              "\n",
              "[5 rows x 13 columns]"
            ]
          },
          "metadata": {
            "tags": []
          },
          "execution_count": 52
        }
      ]
    },
    {
      "cell_type": "code",
      "metadata": {
        "id": "u1j7KF6eSDch",
        "colab_type": "code",
        "colab": {
          "base_uri": "https://localhost:8080/",
          "height": 51
        },
        "outputId": "b6827c31-e07e-48f1-dfcc-18f96ba1d604"
      },
      "source": [
        "from scipy.stats import ttest_ind\n",
        "ran['age-at-heart-attack'].mean()\n",
        "df['age-at-heart-attack'].mean()\n",
        "print(ran['age-at-heart-attack'].mean())\n",
        "print(df['age-at-heart-attack'].mean())"
      ],
      "execution_count": 53,
      "outputs": [
        {
          "output_type": "stream",
          "text": [
            "63.666666666666664\n",
            "62.813722222222225\n"
          ],
          "name": "stdout"
        }
      ]
    },
    {
      "cell_type": "code",
      "metadata": {
        "id": "VS3YXuzGSasz",
        "colab_type": "code",
        "colab": {
          "base_uri": "https://localhost:8080/",
          "height": 34
        },
        "outputId": "e698c695-0833-4350-8e89-161e64253049"
      },
      "source": [
        "ttest_ind(ran['age-at-heart-attack'], df['age-at-heart-attack'], nan_policy='omit')"
      ],
      "execution_count": 54,
      "outputs": [
        {
          "output_type": "execute_result",
          "data": {
            "text/plain": [
              "Ttest_indResult(statistic=0.488817287180926, pvalue=0.6256664616202791)"
            ]
          },
          "metadata": {
            "tags": []
          },
          "execution_count": 54
        }
      ]
    },
    {
      "cell_type": "code",
      "metadata": {
        "id": "q3Vct93cXfxJ",
        "colab_type": "code",
        "colab": {}
      },
      "source": [
        "#pvalue is above 0.05, we fail reject the null hypothesis\n",
        "#Mean of the sample(age_at_attack) and data(age_at_attack) are close."
      ],
      "execution_count": null,
      "outputs": []
    },
    {
      "cell_type": "code",
      "metadata": {
        "id": "iE23f5mZ7iWf",
        "colab_type": "code",
        "colab": {
          "base_uri": "https://localhost:8080/",
          "height": 173
        },
        "outputId": "2ac51bd4-2327-4763-e2a1-8962a50de228"
      },
      "source": [
        "df.describe(exclude='number')"
      ],
      "execution_count": 7,
      "outputs": [
        {
          "output_type": "execute_result",
          "data": {
            "text/html": [
              "<div>\n",
              "<style scoped>\n",
              "    .dataframe tbody tr th:only-of-type {\n",
              "        vertical-align: middle;\n",
              "    }\n",
              "\n",
              "    .dataframe tbody tr th {\n",
              "        vertical-align: top;\n",
              "    }\n",
              "\n",
              "    .dataframe thead th {\n",
              "        text-align: right;\n",
              "    }\n",
              "</style>\n",
              "<table border=\"1\" class=\"dataframe\">\n",
              "  <thead>\n",
              "    <tr style=\"text-align: right;\">\n",
              "      <th></th>\n",
              "      <th>name</th>\n",
              "      <th>group</th>\n",
              "    </tr>\n",
              "  </thead>\n",
              "  <tbody>\n",
              "    <tr>\n",
              "      <th>count</th>\n",
              "      <td>131</td>\n",
              "      <td>110</td>\n",
              "    </tr>\n",
              "    <tr>\n",
              "      <th>unique</th>\n",
              "      <td>1</td>\n",
              "      <td>3</td>\n",
              "    </tr>\n",
              "    <tr>\n",
              "      <th>top</th>\n",
              "      <td>name</td>\n",
              "      <td>2</td>\n",
              "    </tr>\n",
              "    <tr>\n",
              "      <th>freq</th>\n",
              "      <td>131</td>\n",
              "      <td>85</td>\n",
              "    </tr>\n",
              "  </tbody>\n",
              "</table>\n",
              "</div>"
            ],
            "text/plain": [
              "        name group\n",
              "count    131   110\n",
              "unique     1     3\n",
              "top     name     2\n",
              "freq     131    85"
            ]
          },
          "metadata": {
            "tags": []
          },
          "execution_count": 7
        }
      ]
    },
    {
      "cell_type": "code",
      "metadata": {
        "id": "ghOg-BzX7232",
        "colab_type": "code",
        "colab": {
          "base_uri": "https://localhost:8080/",
          "height": 935
        },
        "outputId": "ea5dc9ce-f0c8-49fb-ac10-f571be4dd840"
      },
      "source": [
        "#checking for dependence or independence\n",
        "df['survival'].value_counts()\n"
      ],
      "execution_count": 8,
      "outputs": [
        {
          "output_type": "execute_result",
          "data": {
            "text/plain": [
              "1.00     6\n",
              "0.75     6\n",
              "0.50     6\n",
              "33.00    5\n",
              "26.00    5\n",
              "29.00    4\n",
              "0.25     4\n",
              "36.00    4\n",
              "27.00    4\n",
              "22.00    4\n",
              "25.00    4\n",
              "12.00    4\n",
              "19.00    4\n",
              "41.00    3\n",
              "24.00    3\n",
              "34.00    3\n",
              "10.00    3\n",
              "16.00    3\n",
              "31.00    3\n",
              "32.00    3\n",
              "21.00    2\n",
              "17.00    2\n",
              "5.00     2\n",
              "28.00    2\n",
              "3.00     2\n",
              "35.00    2\n",
              "40.00    2\n",
              "13.00    2\n",
              "2.00     2\n",
              "37.00    2\n",
              "52.00    2\n",
              "20.00    2\n",
              "15.00    2\n",
              "53.00    2\n",
              "38.00    2\n",
              "49.00    2\n",
              "57.00    1\n",
              "50.00    1\n",
              "44.00    1\n",
              "0.03     1\n",
              "48.00    1\n",
              "7.50     1\n",
              "46.00    1\n",
              "19.50    1\n",
              "7.00     1\n",
              "45.00    1\n",
              "9.00     1\n",
              "47.00    1\n",
              "23.00    1\n",
              "55.00    1\n",
              "4.00     1\n",
              "1.25     1\n",
              "11.00    1\n",
              "Name: survival, dtype: int64"
            ]
          },
          "metadata": {
            "tags": []
          },
          "execution_count": 8
        }
      ]
    },
    {
      "cell_type": "code",
      "metadata": {
        "id": "AwfvIHCt46nm",
        "colab_type": "code",
        "colab": {
          "base_uri": "https://localhost:8080/",
          "height": 68
        },
        "outputId": "9a53cb90-9ad6-457e-d9d6-c49170fb1336"
      },
      "source": [
        "\n",
        "df['still-alive'].value_counts()"
      ],
      "execution_count": 6,
      "outputs": [
        {
          "output_type": "execute_result",
          "data": {
            "text/plain": [
              "0.0    88\n",
              "1.0    43\n",
              "Name: still-alive, dtype: int64"
            ]
          },
          "metadata": {
            "tags": []
          },
          "execution_count": 6
        }
      ]
    },
    {
      "cell_type": "code",
      "metadata": {
        "id": "i2AOaCRIAcx1",
        "colab_type": "code",
        "colab": {}
      },
      "source": [
        "surv_still =pd.crosstab(df['survival'], df['still-alive'])"
      ],
      "execution_count": null,
      "outputs": []
    },
    {
      "cell_type": "code",
      "metadata": {
        "id": "3T-S4pya96XU",
        "colab_type": "code",
        "colab": {
          "base_uri": "https://localhost:8080/",
          "height": 34
        },
        "outputId": "16b72d06-83df-473d-e6dd-56b605a6c81f"
      },
      "source": [
        "#to test\n",
        "from scipy.stats import chisquare\n",
        "chisquare(surv_still, axis = None)"
      ],
      "execution_count": 13,
      "outputs": [
        {
          "output_type": "execute_result",
          "data": {
            "text/plain": [
              "Power_divergenceResult(statistic=199.41538461538457, pvalue=7.784164563032896e-08)"
            ]
          },
          "metadata": {
            "tags": []
          },
          "execution_count": 13
        }
      ]
    },
    {
      "cell_type": "code",
      "metadata": {
        "id": "XvtR_8ag-VF9",
        "colab_type": "code",
        "colab": {}
      },
      "source": [
        "#pvalue is close to zero, we reject the null hypothesis\n",
        "#The null hypothesis that there is no relation between survival and still-alive\n",
        "#Two pairs of variables that are dependant."
      ],
      "execution_count": null,
      "outputs": []
    },
    {
      "cell_type": "code",
      "metadata": {
        "id": "KH_BKZMh80E0",
        "colab_type": "code",
        "colab": {
          "base_uri": "https://localhost:8080/",
          "height": 34
        },
        "outputId": "03e4872d-c11a-4e7a-f562-87a24995c378"
      },
      "source": [
        "#Comparing Still-allive and age-at-heart-attack\n",
        "age_still =pd.crosstab(df['age-at-heart-attack'], df['still-alive'])\n",
        "chisquare(age_still, axis = None)"
      ],
      "execution_count": 23,
      "outputs": [
        {
          "output_type": "execute_result",
          "data": {
            "text/plain": [
              "Power_divergenceResult(statistic=134.5714285714286, pvalue=2.9456287523394776e-05)"
            ]
          },
          "metadata": {
            "tags": []
          },
          "execution_count": 23
        }
      ]
    },
    {
      "cell_type": "code",
      "metadata": {
        "id": "aykC62knBrbW",
        "colab_type": "code",
        "colab": {}
      },
      "source": [
        "#pvalue is close to zero, we reject the null hypothesis\n",
        "#There is a dependent relationship between Still-alive and age-at heart attack"
      ],
      "execution_count": null,
      "outputs": []
    },
    {
      "cell_type": "code",
      "metadata": {
        "id": "1y6Nj-MtCwee",
        "colab_type": "code",
        "colab": {
          "base_uri": "https://localhost:8080/",
          "height": 34
        },
        "outputId": "8060fdcf-dc58-465c-fba2-3d93851a32de"
      },
      "source": [
        "#Comparing epss and wall-motion-score\n",
        "wall_epss =pd.crosstab(df['wall-motion-score'], df['epss'])\n",
        "stats.chi2_contingency(wall_epss)[1]"
      ],
      "execution_count": 30,
      "outputs": [
        {
          "output_type": "execute_result",
          "data": {
            "text/plain": [
              "0.04088451596823525"
            ]
          },
          "metadata": {
            "tags": []
          },
          "execution_count": 30
        }
      ]
    },
    {
      "cell_type": "code",
      "metadata": {
        "id": "5BY0npSrGchP",
        "colab_type": "code",
        "colab": {}
      },
      "source": [
        "#pvalue is less than .05 we reject the null hypothesis of independence relationship "
      ],
      "execution_count": null,
      "outputs": []
    },
    {
      "cell_type": "code",
      "metadata": {
        "id": "IEVMNlbyFGEH",
        "colab_type": "code",
        "colab": {}
      },
      "source": [
        "#Comparing epss and wall-motion-score\n",
        "wall_epss =pd.crosstab(df['wall-motion-score'], df['epss'])\n",
        "stats.chi2_contingency(wall_epss)[1]"
      ],
      "execution_count": null,
      "outputs": []
    },
    {
      "cell_type": "code",
      "metadata": {
        "id": "EN__5UvkIUzl",
        "colab_type": "code",
        "colab": {
          "base_uri": "https://localhost:8080/",
          "height": 34
        },
        "outputId": "4ea6dc75-ca68-4356-a786-911e1adb5b7c"
      },
      "source": [
        "#Comparing age-at-heart-attack and alive_at_1\n",
        "age_alive =pd.crosstab(df['age-at-heart-attack'], df['alive-at-1'])\n",
        "stats.chi2_contingency(age_alive)[1]\n"
      ],
      "execution_count": 31,
      "outputs": [
        {
          "output_type": "execute_result",
          "data": {
            "text/plain": [
              "0.1444224780862056"
            ]
          },
          "metadata": {
            "tags": []
          },
          "execution_count": 31
        }
      ]
    },
    {
      "cell_type": "code",
      "metadata": {
        "id": "-mnNNUNf47FU",
        "colab_type": "code",
        "colab": {}
      },
      "source": [
        "#pvalue is above .05, we fail to reject the null hypothesis.\n",
        "#There is therefore an independence relationship between age_at_heart_attack and alive_at_1.\n",
        "#The age at which one gets a heart attack does not depict the ability to live beyond a year."
      ],
      "execution_count": null,
      "outputs": []
    },
    {
      "cell_type": "markdown",
      "metadata": {
        "id": "ZM8JckA2bgnp",
        "colab_type": "text"
      },
      "source": [
        "## Part 3 - Analysis and Interpretation\n",
        "\n",
        "Now that you've looked at the data, answer the following questions:\n",
        "\n",
        "- Interpret and explain the two t-tests you ran - what do they tell you about the relationships between the continuous features you selected and the class labels?\n",
        "- Interpret and explain the two Chi-squared tests you ran - what do they tell you about the relationships between the categorical features you selected and the class labels?\n",
        "- What was the most challenging part of this sprint challenge?\n",
        "\n",
        "Answer with text, but feel free to intersperse example code/results or refer to it from earlier."
      ]
    },
    {
      "cell_type": "markdown",
      "metadata": {
        "id": "LIozLDNG2Uhu",
        "colab_type": "text"
      },
      "source": [
        "*Your words here!*"
      ]
    },
    {
      "cell_type": "markdown",
      "metadata": {
        "id": "pvs3_-sNWQv0",
        "colab_type": "text"
      },
      "source": [
        "## Part 4 - Bayesian vs Frequentist Statistics\n",
        "\n",
        "Using a minimum of 2-3 sentences, give an explanation of Bayesian and Frequentist statistics, and then compare and contrast these two approaches to statistical inference.\n",
        "\n"
      ]
    },
    {
      "cell_type": "markdown",
      "metadata": {
        "id": "h1oK1UaDWrI-",
        "colab_type": "text"
      },
      "source": [
        "Bayes theorem is what allows us to go from our sampling and prior distributions to our posterior distribution while Frequentist statistics draws conclusions from sample data by emphasizing the frequency or proportion of the data, it focuses on likehood with non-informative prior"
      ]
    },
    {
      "cell_type": "markdown",
      "metadata": {
        "id": "XOequK5xpVz7",
        "colab_type": "text"
      },
      "source": [
        "# Stretch Goals: \n",
        "Do these to get a 3. These are not required in order to pass the Sprint Challenge.\n",
        "\n",
        "## Part 1: \n",
        "\n",
        "Make sure that all of your dataframe columns have the appropriate data types. *Hint:* If a column has the datatype of \"object\" even though it's made up of float or integer values, you can coerce it to act as a numeric column by using the `pd.to_numeric()` function. In order to get a 3 on this section make sure that your data exploration is particularly well commented, easy to follow, and thorough.\n",
        "\n",
        "## Part 2:\n",
        "\n",
        "Write functions that can calculate t-tests and chi^2 tests on all of the appropriate column combinations from the dataset. (Remember that certain tests require certain variable types.)\n",
        "\n",
        "## Part 3: \n",
        "\n",
        "Calculate and report confidence intervals on your most important mean estimates (choose at least two). Make some kind of a graphic or visualization to help us see visually how precise these estimates are.\n",
        "\n",
        "## Part 4:\n",
        "\n",
        "Give an extra awesome explanation of Bayesian vs Frequentist Statistics. Maybe use code or visualizations, or any other means necessary to show an above average grasp of these high level concepts."
      ]
    },
    {
      "cell_type": "code",
      "metadata": {
        "id": "NT37grnxqa05",
        "colab_type": "code",
        "colab": {}
      },
      "source": [
        "# You can work the stretch goals down here or back up in their regular sections\n",
        "# just make sure that they are labeled so that we can easily differentiate\n",
        "# your main work from the stretch goals."
      ],
      "execution_count": null,
      "outputs": []
    }
  ]
}